{
  "nbformat": 4,
  "nbformat_minor": 0,
  "metadata": {
    "colab": {
      "provenance": [],
      "authorship_tag": "ABX9TyMXuFPXi009ex3BGCP+t7yP",
      "include_colab_link": true
    },
    "kernelspec": {
      "name": "python3",
      "display_name": "Python 3"
    },
    "language_info": {
      "name": "python"
    }
  },
  "cells": [
    {
      "cell_type": "markdown",
      "metadata": {
        "id": "view-in-github",
        "colab_type": "text"
      },
      "source": [
        "<a href=\"https://colab.research.google.com/github/Shaikmakbul/To-calculate-simple-interst-of-bank-customer/blob/main/Untitled3.ipynb\" target=\"_parent\"><img src=\"https://colab.research.google.com/assets/colab-badge.svg\" alt=\"Open In Colab\"/></a>"
      ]
    },
    {
      "cell_type": "code",
      "execution_count": 8,
      "metadata": {
        "colab": {
          "base_uri": "https://localhost:8080/"
        },
        "id": "fUZxdKZn1i1u",
        "outputId": "b621e068-742c-411d-a20e-9c3802be7563"
      },
      "outputs": [
        {
          "output_type": "stream",
          "name": "stdout",
          "text": [
            "customer gender=Male\n",
            "customer citizenship=SeniorCitizen\n",
            "Enter Initial Principal=50000\n",
            "Enter the Time period of Deposit=1\n",
            "R= 0.07\n",
            "Simple Interest= 35.00000000000001\n"
          ]
        }
      ],
      "source": [
        "#To Calculate Simple Interest for Bank Customer for Fixed Deposit \n",
        "str(['Female','SeniorCitizen','Male','NonSeniorCitizen']) \n",
        "cg=str(input('customer gender=')) \n",
        "cc=str(input('customer citizenship=')) \n",
        "p=int(input('Enter Initial Principal=')) \n",
        "t=int(input('Enter the Time period of Deposit=')) \n",
        "r=float() \n",
        "if (cg=='Female' and cc=='SeniorCitizen'): \n",
        "    r=float(0.08) \n",
        "    print('R=',r) \n",
        "    print('Simple Interest=',(p*t*r)/100) \n",
        "elif (cg=='Female' and cc=='NonSeniorCitizen'): \n",
        "    r=float (0.06) \n",
        "    print('R=',r) \n",
        "    print('Simple Interest=',(p*t*r)/100) \n",
        "elif (cg=='Male' and cc=='SeniorCitizen'): \n",
        "    r=float (0.07) \n",
        "    print('R=',r) \n",
        "    print('Simple Interest=',(p*t*r)/100) \n",
        "elif (cg=='Male' and cc=='NonSeniorCitizen'): \n",
        "    r=float (0.05) \n",
        "    print('R=',r) \n",
        "    print('Simple Interest=',(p*t*r)/100) \n",
        "else: \n",
        "    print('Enter Correct Details!')"
      ]
    }
  ]
}